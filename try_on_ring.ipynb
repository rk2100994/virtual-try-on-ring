{
 "cells": [
  {
   "cell_type": "markdown",
   "metadata": {},
   "source": [
    "### Importing required libraries"
   ]
  },
  {
   "cell_type": "code",
   "execution_count": 1,
   "metadata": {},
   "outputs": [],
   "source": [
    "import cv2\n",
    "import copy\n",
    "import math\n",
    "import numpy as np"
   ]
  },
  {
   "cell_type": "markdown",
   "metadata": {},
   "source": [
    "### Finding tips of fingers and Middle points between fingers "
   ]
  },
  {
   "cell_type": "code",
   "execution_count": 2,
   "metadata": {},
   "outputs": [],
   "source": [
    "def tips_mid_coordsFingers(res, drawing):\n",
    "    #  convexity defect\n",
    "    defects_points = []\n",
    "    start_points = []\n",
    "    hull = cv2.convexHull(res, returnPoints=False)\n",
    "    if len(hull) > 3:\n",
    "        defects = cv2.convexityDefects(res, hull)\n",
    "        if defects is not None:\n",
    "            cnt = 0\n",
    "            for i in range(defects.shape[0]):  # calculate the angle\n",
    "                #calculation of components of convex defects \n",
    "                s, e, f, d = defects[i][0]\n",
    "                start = tuple(res[s][0])\n",
    "                end = tuple(res[e][0])\n",
    "                far = tuple(res[f][0])\n",
    "                start_points.append(start)\n",
    "                cv2.circle(drawing, far, 4, [211, 84, 0], -1)\n",
    "                cv2.circle(drawing, start, 4, [155, 0, 255], -1)\n",
    "                a = math.sqrt((end[0] - start[0]) ** 2 + (end[1] - start[1]) ** 2)\n",
    "                b = math.sqrt((far[0] - start[0]) ** 2 + (far[1] - start[1]) ** 2)\n",
    "                c = math.sqrt((end[0] - far[0]) ** 2 + (end[1] - far[1]) ** 2)\n",
    "                angle = math.acos((b ** 2 + c ** 2 - a ** 2) / (2 * b * c))  # cosine theorem\n",
    "                if angle <= math.pi / 2:  # angle less than 90 degree, treat as fingers\n",
    "                    defects_points.append(far)\n",
    "    return start_points, defects_points"
   ]
  },
  {
   "cell_type": "markdown",
   "metadata": {},
   "source": [
    "### Finding approx. size of finger, where ring can be worn"
   ]
  },
  {
   "cell_type": "code",
   "execution_count": 3,
   "metadata": {},
   "outputs": [],
   "source": [
    "def sizeFinger(points_btwn_fingers):\n",
    "    #considering first 3 extreme points\n",
    "    size_ringFinger = points_btwn_fingers[0][0] - points_btwn_fingers[1][0]\n",
    "    size_middleFinger = points_btwn_fingers[1][0] - points_btwn_fingers[2][0]\n",
    "    #approximate finger size\n",
    "    sum_FingerSize = size_ringFinger+size_middleFinger\n",
    "    approx_FingerSize = sum_FingerSize//2\n",
    "    return approx_FingerSize"
   ]
  },
  {
   "cell_type": "markdown",
   "metadata": {},
   "source": [
    "### Finding approx. depth on finger, where ring is worn"
   ]
  },
  {
   "cell_type": "code",
   "execution_count": 4,
   "metadata": {},
   "outputs": [],
   "source": [
    "def depthFinger(points_btwn_fingers):\n",
    "    #diff Y-coords of two corners of finger\n",
    "    diff_ring_finger_Y = points_btwn_fingers[0][1] - points_btwn_fingers[1][1]\n",
    "    '''as per Y-coords of two corners of middle finger, has no much difference,\n",
    "        observing the graph and fact of positioning of fingers, taking left Y-coordinate of index finger same \n",
    "        as right Y-coordinate of index finger\n",
    "    '''\n",
    "    depthFinger_list = [points_btwn_fingers[0][1]+diff_ring_finger_Y,points_btwn_fingers[2][1],points_btwn_fingers[3][1]+diff_ring_finger_Y]\n",
    "    return depthFinger_list"
   ]
  },
  {
   "cell_type": "markdown",
   "metadata": {},
   "source": [
    "### Finding approx. two end coordinates of each finger"
   ]
  },
  {
   "cell_type": "code",
   "execution_count": 5,
   "metadata": {},
   "outputs": [],
   "source": [
    "def getTwoCornerPoints_Finger(points_btwn_fingers,approx_FingerSize,littleFinger_Y,indexFinger_Y,thumbFinger_Y):\n",
    "    #little finger\n",
    "    little_finger_X = points_btwn_fingers[0][0]+approx_FingerSize\n",
    "    little_finger_Y = littleFinger_Y\n",
    "    little_finger_corner_coords = [little_finger_X,little_finger_Y]\n",
    "    #index finger\n",
    "    index_finger_X = points_btwn_fingers[2][0]-approx_FingerSize\n",
    "    index_finger_Y = indexFinger_Y\n",
    "    index_finger_corner_coords = [index_finger_X,index_finger_Y]\n",
    "    #thumb finger\n",
    "    thumb_finger_X = points_btwn_fingers[3][0]-approx_FingerSize\n",
    "    thumb_finger_Y = thumbFinger_Y\n",
    "    thumb_finger_corner_coords = [thumb_finger_X,thumb_finger_Y]\n",
    "    #all coords in order\n",
    "    all_coords_fingers_in_order = [little_finger_corner_coords,points_btwn_fingers[0],points_btwn_fingers[1],points_btwn_fingers[2],index_finger_corner_coords,points_btwn_fingers[3],thumb_finger_corner_coords]\n",
    "    return all_coords_fingers_in_order"
   ]
  },
  {
   "cell_type": "markdown",
   "metadata": {},
   "source": [
    "### Finding approx. mid-points of each finger"
   ]
  },
  {
   "cell_type": "code",
   "execution_count": 6,
   "metadata": {},
   "outputs": [],
   "source": [
    "def getMidPointsFingers(getTwoCornerPoints_Finger_list):\n",
    "    #Little Finger\n",
    "    midPoint_LittleFinger_X = (getTwoCornerPoints_Finger_list[0][0]+getTwoCornerPoints_Finger_list[1][0]) // 2\n",
    "    midPoint_LittleFinger_Y = (getTwoCornerPoints_Finger_list[0][1]+getTwoCornerPoints_Finger_list[1][1]) // 2\n",
    "    midPoint_LittleFinger_coords = [midPoint_LittleFinger_X,midPoint_LittleFinger_Y]\n",
    "    #Ring Finger\n",
    "    midPoint_RingFinger_X = (getTwoCornerPoints_Finger_list[1][0]+getTwoCornerPoints_Finger_list[2][0]) // 2\n",
    "    midPoint_RingFinger_Y = (getTwoCornerPoints_Finger_list[1][1]+getTwoCornerPoints_Finger_list[2][1]) // 2\n",
    "    midPoint_RingFinger_coords = [midPoint_RingFinger_X,midPoint_RingFinger_Y]\n",
    "    #Middle Finger\n",
    "    midPoint_MiddleFinger_X = (getTwoCornerPoints_Finger_list[2][0]+getTwoCornerPoints_Finger_list[3][0]) // 2\n",
    "    midPoint_MiddleFinger_Y = (getTwoCornerPoints_Finger_list[2][1]+getTwoCornerPoints_Finger_list[3][1]) // 2\n",
    "    midPoint_MiddleFinger_coords = [midPoint_MiddleFinger_X,midPoint_MiddleFinger_Y]\n",
    "    #Index Finger\n",
    "    midPoint_IndexFinger_X = (getTwoCornerPoints_Finger_list[3][0]+getTwoCornerPoints_Finger_list[4][0]) // 2\n",
    "    midPoint_IndexFinger_Y = (getTwoCornerPoints_Finger_list[3][1]+getTwoCornerPoints_Finger_list[4][1]) // 2\n",
    "    midPoint_IndexFinger_coords = [midPoint_IndexFinger_X,midPoint_IndexFinger_Y]\n",
    "    #Thumb Finger\n",
    "    midPoint_ThumbFinger_X = (getTwoCornerPoints_Finger_list[5][0]+getTwoCornerPoints_Finger_list[6][0]) // 2\n",
    "    midPoint_ThumbFinger_Y = (getTwoCornerPoints_Finger_list[5][1]+getTwoCornerPoints_Finger_list[6][1]) // 2\n",
    "    midPoint_ThumbFinger_coords = [midPoint_ThumbFinger_X,midPoint_ThumbFinger_Y]\n",
    "    midPoints_all_fingers_list = [midPoint_LittleFinger_coords,midPoint_RingFinger_coords,midPoint_MiddleFinger_coords,midPoint_IndexFinger_coords,midPoint_ThumbFinger_coords]\n",
    "    return midPoints_all_fingers_list"
   ]
  },
  {
   "cell_type": "markdown",
   "metadata": {},
   "source": [
    "### Read and Display an image"
   ]
  },
  {
   "cell_type": "code",
   "execution_count": 7,
   "metadata": {},
   "outputs": [],
   "source": [
    "img = cv2.imread('my_hand.jpg')\n",
    "cv2.imshow('My Original Image',img)\n",
    "cv2.waitKey(0)\n",
    "cv2.destroyAllWindows()"
   ]
  },
  {
   "cell_type": "markdown",
   "metadata": {},
   "source": [
    "### Background removal\n",
    "removes background (if,any)"
   ]
  },
  {
   "cell_type": "code",
   "execution_count": 8,
   "metadata": {},
   "outputs": [],
   "source": [
    "kernel = np.ones((3,3), np.uint8)\n",
    "img = cv2.erode(img, kernel, iterations=1)"
   ]
  },
  {
   "cell_type": "markdown",
   "metadata": {},
   "source": [
    "### Skin detection and Thresholding for masked View"
   ]
  },
  {
   "cell_type": "code",
   "execution_count": 9,
   "metadata": {},
   "outputs": [],
   "source": [
    "hsv = cv2.cvtColor(img, cv2.COLOR_BGR2HSV)\n",
    "lower = np.array([0, 48, 80], dtype=\"uint8\")\n",
    "upper = np.array([20, 255, 255], dtype=\"uint8\")\n",
    "skinMask = cv2.inRange(hsv, lower, upper)\n",
    "cv2.imshow('Threshold Hands', skinMask)\n",
    "cv2.waitKey(0)\n",
    "cv2.destroyAllWindows()"
   ]
  },
  {
   "cell_type": "markdown",
   "metadata": {},
   "source": [
    "### Getting the contours and convex hull of a hand"
   ]
  },
  {
   "cell_type": "code",
   "execution_count": 10,
   "metadata": {
    "scrolled": true
   },
   "outputs": [
    {
     "name": "stdout",
     "output_type": "stream",
     "text": [
      "fingertips points [(100, 35), (84, 16), (64, 4), (36, 5), (32, 6), (5, 52), (4, 55), (76, 179)]\n",
      "points/defects in between fingers [(76, 56), (63, 49), (52, 47), (35, 67), (6, 53)]\n"
     ]
    }
   ],
   "source": [
    "skinMask_copy = copy.deepcopy(skinMask)\n",
    "contours, hierarchy = cv2.findContours(skinMask_copy, cv2.RETR_TREE, cv2.CHAIN_APPROX_SIMPLE)\n",
    "length = len(contours)\n",
    "\"\"\"Find the largest contour\"\"\"\n",
    "maxArea = -1\n",
    "if length > 0:\n",
    "    for i in range(length):\n",
    "        temp = contours[i]\n",
    "        area = cv2.contourArea(temp)\n",
    "        if area > maxArea:\n",
    "            maxArea = area\n",
    "            ci = i\n",
    "\n",
    "    res = contours[ci]\n",
    "    #computing hull points\n",
    "    hull = cv2.convexHull(res)\n",
    "    drawing = np.zeros(img.shape, np.uint8)\n",
    "    cv2.drawContours(drawing, [res], 0, (0, 255, 0), 2)#contours of hand (green)\n",
    "    cv2.drawContours(drawing, [hull], 0, (0, 0, 255), 3)#shape of convex hull around hand(red)\n",
    "    \n",
    "    start_points, defects_points = tips_mid_coordsFingers(res, drawing)\n",
    "    print(\"fingertips points\", start_points)\n",
    "    print(\"points/defects in between fingers\", defects_points)\n",
    "    cv2.imshow('convex hull, defect points and start points', drawing)\n",
    "    cv2.waitKey(0)\n",
    "    cv2.destroyAllWindows()"
   ]
  },
  {
   "cell_type": "code",
   "execution_count": 11,
   "metadata": {},
   "outputs": [
    {
     "name": "stdout",
     "output_type": "stream",
     "text": [
      "points_btwn_fingers [(76, 56), (63, 49), (52, 47), (35, 67)]\n",
      "getTwoCornerPoints_Finger_list [[88, 63], (76, 56), (63, 49), (52, 47), [40, 47], (35, 67), [23, 74]]\n",
      "getMidPointsFingers_list [[82, 59], [69, 52], [57, 48], [46, 47], [29, 70]]\n"
     ]
    }
   ],
   "source": [
    "'''filtering start_points and defect_points based on physiological structure,\n",
    "    these points has to be changed based on the fingertips point vallues and points/defects\n",
    "    in between fingers values\n",
    "'''\n",
    "tips_fingers = [(100, 35), (84, 16), (64, 4), (36,5), (5, 52)]\n",
    "#points_btwn_fingers\n",
    "points_btwn_fingers = [(76, 56), (63, 49), (52, 47), (35, 67)]\n",
    "print(\"points_btwn_fingers\", points_btwn_fingers)\n",
    "\n",
    "#getting the approximate size of each finger considersing middle and ring finger\n",
    "approx_FingerSize = sizeFinger(points_btwn_fingers)\n",
    "\n",
    "#depth/ Y_coords of fingers\n",
    "littleFinger_Y,indexFinger_Y,thumbFinger_Y = depthFinger(points_btwn_fingers) \n",
    "\n",
    "#approximate coordinate values of two corners of each finger where ring can be worn\n",
    "getTwoCornerPoints_Finger_list = getTwoCornerPoints_Finger(points_btwn_fingers,approx_FingerSize,littleFinger_Y,indexFinger_Y,thumbFinger_Y)\n",
    "print(\"getTwoCornerPoints_Finger_list\",getTwoCornerPoints_Finger_list)\n",
    "\n",
    "#mid-points of each finger\n",
    "getMidPointsFingers_list = getMidPointsFingers(getTwoCornerPoints_Finger_list) \n",
    "print(\"getMidPointsFingers_list\",getMidPointsFingers_list)"
   ]
  },
  {
   "cell_type": "markdown",
   "metadata": {},
   "source": [
    "### Coordinates list"
   ]
  },
  {
   "cell_type": "code",
   "execution_count": 12,
   "metadata": {},
   "outputs": [
    {
     "name": "stdout",
     "output_type": "stream",
     "text": [
      "Coordinates of little finger are as follows:\n",
      "Right: [88, 63]\n",
      "Middle: [82, 59]\n",
      "Left: (76, 56)\n",
      "Coordinates of ring finger are as follows:\n",
      "Right: (76, 56)\n",
      "Middle: [69, 52]\n",
      "Left: (63, 49)\n",
      "Coordinates of middle finger are as follows:\n",
      "Right: (63, 49)\n",
      "Middle: [57, 48]\n",
      "Left: (52, 47)\n",
      "Coordinates of index finger are as follows:\n",
      "Right: (52, 47)\n",
      "Middle: [46, 47]\n",
      "Left: [40, 47]\n",
      "Coordinates of thumb finger are as follows:\n",
      "Right: (35, 67)\n",
      "Middle: [29, 70]\n",
      "Left: [23, 74]\n"
     ]
    }
   ],
   "source": [
    "#coords of little finger\n",
    "print(\"Coordinates of little finger are as follows:\")\n",
    "print(\"Right:\",getTwoCornerPoints_Finger_list[0])\n",
    "print(\"Middle:\",getMidPointsFingers_list[0])\n",
    "print(\"Left:\",getTwoCornerPoints_Finger_list[1])\n",
    "\n",
    "#coords of ring finger\n",
    "print(\"Coordinates of ring finger are as follows:\")\n",
    "print(\"Right:\",getTwoCornerPoints_Finger_list[1])\n",
    "print(\"Middle:\",getMidPointsFingers_list[1])\n",
    "print(\"Left:\",getTwoCornerPoints_Finger_list[2])\n",
    "\n",
    "#coords of middle finger\n",
    "print(\"Coordinates of middle finger are as follows:\")\n",
    "print(\"Right:\",getTwoCornerPoints_Finger_list[2])\n",
    "print(\"Middle:\",getMidPointsFingers_list[2])\n",
    "print(\"Left:\",getTwoCornerPoints_Finger_list[3])\n",
    "\n",
    "#coords of index finger\n",
    "print(\"Coordinates of index finger are as follows:\")\n",
    "print(\"Right:\",getTwoCornerPoints_Finger_list[3])\n",
    "print(\"Middle:\",getMidPointsFingers_list[3])\n",
    "print(\"Left:\",getTwoCornerPoints_Finger_list[4])\n",
    "\n",
    " #coords of thumb finger\n",
    "print(\"Coordinates of thumb finger are as follows:\")\n",
    "print(\"Right:\",getTwoCornerPoints_Finger_list[5])\n",
    "print(\"Middle:\",getMidPointsFingers_list[4])\n",
    "print(\"Left:\",getTwoCornerPoints_Finger_list[6])"
   ]
  },
  {
   "cell_type": "markdown",
   "metadata": {},
   "source": [
    "### Verifiying ranges of resulted coordinates\n",
    "Displaying the pixels of image with the minimum and maximum points from coordinates lists above "
   ]
  },
  {
   "cell_type": "code",
   "execution_count": 13,
   "metadata": {},
   "outputs": [],
   "source": [
    "img = cv2.imread('my_hand.jpg')\n",
    "#ROI by defining pixel value\n",
    "# (20,90 )(35, 88)\n",
    "fingers_output = img[47:85, 20:85]\n",
    "cv2.imshow('output', fingers_output)\n",
    "cv2.waitKey(0)\n",
    "cv2.destroyAllWindows()"
   ]
  }
 ],
 "metadata": {
  "kernelspec": {
   "display_name": "Python 3",
   "language": "python",
   "name": "python3"
  },
  "language_info": {
   "codemirror_mode": {
    "name": "ipython",
    "version": 3
   },
   "file_extension": ".py",
   "mimetype": "text/x-python",
   "name": "python",
   "nbconvert_exporter": "python",
   "pygments_lexer": "ipython3",
   "version": "3.7.3"
  }
 },
 "nbformat": 4,
 "nbformat_minor": 2
}
